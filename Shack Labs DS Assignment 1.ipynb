{
 "cells": [
  {
   "cell_type": "markdown",
   "id": "4ccb035b",
   "metadata": {},
   "source": [
    "# Problem Statement\n",
    "The goal is to understand the relationship between house features and how these variables affect the house price. Using more than one model, predict the price of the house using the given dataset. Please compare the accuracy of the models along with the drawbacks of each technique's assumptions before recommending the final prediction model. \n",
    "Link to access dataset\n",
    "https://www.dropbox.com/sh/aypq6h3254207bs/AACzMLvo-XtK9sYAAma6FW0la?dl=0"
   ]
  },
  {
   "cell_type": "markdown",
   "id": "811c44c7",
   "metadata": {},
   "source": [
    "#### Import Libraries"
   ]
  },
  {
   "cell_type": "code",
   "execution_count": 6,
   "id": "6761d50d",
   "metadata": {},
   "outputs": [],
   "source": [
    "import numpy as np\n",
    "import pandas as pd\n",
    "import matplotlib.pyplot as plt\n",
    "import seaborn as sns"
   ]
  },
  {
   "cell_type": "markdown",
   "id": "45d18215",
   "metadata": {},
   "source": [
    "#### Read Data From Excel File"
   ]
  },
  {
   "cell_type": "code",
   "execution_count": 7,
   "id": "30629e46",
   "metadata": {},
   "outputs": [],
   "source": [
    "df= pd.read_excel(r\"DS - Assignment Part 1 data set.xlsx\")"
   ]
  },
  {
   "cell_type": "code",
   "execution_count": 8,
   "id": "ae5ac43b",
   "metadata": {},
   "outputs": [
    {
     "data": {
      "text/html": [
       "<div>\n",
       "<style scoped>\n",
       "    .dataframe tbody tr th:only-of-type {\n",
       "        vertical-align: middle;\n",
       "    }\n",
       "\n",
       "    .dataframe tbody tr th {\n",
       "        vertical-align: top;\n",
       "    }\n",
       "\n",
       "    .dataframe thead th {\n",
       "        text-align: right;\n",
       "    }\n",
       "</style>\n",
       "<table border=\"1\" class=\"dataframe\">\n",
       "  <thead>\n",
       "    <tr style=\"text-align: right;\">\n",
       "      <th></th>\n",
       "      <th>Transaction date</th>\n",
       "      <th>House Age</th>\n",
       "      <th>Distance from nearest Metro station (km)</th>\n",
       "      <th>Number of convenience stores</th>\n",
       "      <th>latitude</th>\n",
       "      <th>longitude</th>\n",
       "      <th>Number of bedrooms</th>\n",
       "      <th>House size (sqft)</th>\n",
       "      <th>House price of unit area</th>\n",
       "    </tr>\n",
       "  </thead>\n",
       "  <tbody>\n",
       "    <tr>\n",
       "      <th>0</th>\n",
       "      <td>2012.916667</td>\n",
       "      <td>32.0</td>\n",
       "      <td>84.87882</td>\n",
       "      <td>10</td>\n",
       "      <td>24.98298</td>\n",
       "      <td>121.54024</td>\n",
       "      <td>1</td>\n",
       "      <td>575</td>\n",
       "      <td>37.9</td>\n",
       "    </tr>\n",
       "    <tr>\n",
       "      <th>1</th>\n",
       "      <td>2012.916667</td>\n",
       "      <td>19.5</td>\n",
       "      <td>306.59470</td>\n",
       "      <td>9</td>\n",
       "      <td>24.98034</td>\n",
       "      <td>121.53951</td>\n",
       "      <td>2</td>\n",
       "      <td>1240</td>\n",
       "      <td>42.2</td>\n",
       "    </tr>\n",
       "    <tr>\n",
       "      <th>2</th>\n",
       "      <td>2013.583333</td>\n",
       "      <td>13.3</td>\n",
       "      <td>561.98450</td>\n",
       "      <td>5</td>\n",
       "      <td>24.98746</td>\n",
       "      <td>121.54391</td>\n",
       "      <td>3</td>\n",
       "      <td>1060</td>\n",
       "      <td>47.3</td>\n",
       "    </tr>\n",
       "    <tr>\n",
       "      <th>3</th>\n",
       "      <td>2013.500000</td>\n",
       "      <td>13.3</td>\n",
       "      <td>561.98450</td>\n",
       "      <td>5</td>\n",
       "      <td>24.98746</td>\n",
       "      <td>121.54391</td>\n",
       "      <td>2</td>\n",
       "      <td>875</td>\n",
       "      <td>54.8</td>\n",
       "    </tr>\n",
       "    <tr>\n",
       "      <th>4</th>\n",
       "      <td>2012.833333</td>\n",
       "      <td>5.0</td>\n",
       "      <td>390.56840</td>\n",
       "      <td>5</td>\n",
       "      <td>24.97937</td>\n",
       "      <td>121.54245</td>\n",
       "      <td>1</td>\n",
       "      <td>491</td>\n",
       "      <td>43.1</td>\n",
       "    </tr>\n",
       "  </tbody>\n",
       "</table>\n",
       "</div>"
      ],
      "text/plain": [
       "   Transaction date  House Age  Distance from nearest Metro station (km)  \\\n",
       "0       2012.916667       32.0                                  84.87882   \n",
       "1       2012.916667       19.5                                 306.59470   \n",
       "2       2013.583333       13.3                                 561.98450   \n",
       "3       2013.500000       13.3                                 561.98450   \n",
       "4       2012.833333        5.0                                 390.56840   \n",
       "\n",
       "   Number of convenience stores  latitude  longitude  Number of bedrooms  \\\n",
       "0                            10  24.98298  121.54024                   1   \n",
       "1                             9  24.98034  121.53951                   2   \n",
       "2                             5  24.98746  121.54391                   3   \n",
       "3                             5  24.98746  121.54391                   2   \n",
       "4                             5  24.97937  121.54245                   1   \n",
       "\n",
       "   House size (sqft)  House price of unit area  \n",
       "0                575                      37.9  \n",
       "1               1240                      42.2  \n",
       "2               1060                      47.3  \n",
       "3                875                      54.8  \n",
       "4                491                      43.1  "
      ]
     },
     "execution_count": 8,
     "metadata": {},
     "output_type": "execute_result"
    }
   ],
   "source": [
    "df.head()"
   ]
  },
  {
   "cell_type": "code",
   "execution_count": 9,
   "id": "def9c094",
   "metadata": {},
   "outputs": [
    {
     "name": "stdout",
     "output_type": "stream",
     "text": [
      "<class 'pandas.core.frame.DataFrame'>\n",
      "RangeIndex: 414 entries, 0 to 413\n",
      "Data columns (total 9 columns):\n",
      " #   Column                                    Non-Null Count  Dtype  \n",
      "---  ------                                    --------------  -----  \n",
      " 0   Transaction date                          414 non-null    float64\n",
      " 1   House Age                                 414 non-null    float64\n",
      " 2   Distance from nearest Metro station (km)  414 non-null    float64\n",
      " 3   Number of convenience stores              414 non-null    int64  \n",
      " 4   latitude                                  414 non-null    float64\n",
      " 5   longitude                                 414 non-null    float64\n",
      " 6   Number of bedrooms                        414 non-null    int64  \n",
      " 7   House size (sqft)                         414 non-null    int64  \n",
      " 8   House price of unit area                  414 non-null    float64\n",
      "dtypes: float64(6), int64(3)\n",
      "memory usage: 29.2 KB\n"
     ]
    }
   ],
   "source": [
    "df.info()"
   ]
  },
  {
   "cell_type": "code",
   "execution_count": 10,
   "id": "fce600b6",
   "metadata": {},
   "outputs": [
    {
     "data": {
      "text/plain": [
       "(414, 9)"
      ]
     },
     "execution_count": 10,
     "metadata": {},
     "output_type": "execute_result"
    }
   ],
   "source": [
    "df.shape"
   ]
  },
  {
   "cell_type": "code",
   "execution_count": 11,
   "id": "ae9be51f",
   "metadata": {},
   "outputs": [
    {
     "data": {
      "text/html": [
       "<div>\n",
       "<style scoped>\n",
       "    .dataframe tbody tr th:only-of-type {\n",
       "        vertical-align: middle;\n",
       "    }\n",
       "\n",
       "    .dataframe tbody tr th {\n",
       "        vertical-align: top;\n",
       "    }\n",
       "\n",
       "    .dataframe thead th {\n",
       "        text-align: right;\n",
       "    }\n",
       "</style>\n",
       "<table border=\"1\" class=\"dataframe\">\n",
       "  <thead>\n",
       "    <tr style=\"text-align: right;\">\n",
       "      <th></th>\n",
       "      <th>Transaction date</th>\n",
       "      <th>House Age</th>\n",
       "      <th>Distance from nearest Metro station (km)</th>\n",
       "      <th>Number of convenience stores</th>\n",
       "      <th>latitude</th>\n",
       "      <th>longitude</th>\n",
       "      <th>Number of bedrooms</th>\n",
       "      <th>House size (sqft)</th>\n",
       "      <th>House price of unit area</th>\n",
       "    </tr>\n",
       "  </thead>\n",
       "  <tbody>\n",
       "    <tr>\n",
       "      <th>count</th>\n",
       "      <td>414.000000</td>\n",
       "      <td>414.000000</td>\n",
       "      <td>414.000000</td>\n",
       "      <td>414.000000</td>\n",
       "      <td>414.000000</td>\n",
       "      <td>414.000000</td>\n",
       "      <td>414.000000</td>\n",
       "      <td>414.000000</td>\n",
       "      <td>414.000000</td>\n",
       "    </tr>\n",
       "    <tr>\n",
       "      <th>mean</th>\n",
       "      <td>2013.148953</td>\n",
       "      <td>17.712560</td>\n",
       "      <td>1083.885689</td>\n",
       "      <td>4.094203</td>\n",
       "      <td>24.969030</td>\n",
       "      <td>121.533361</td>\n",
       "      <td>1.987923</td>\n",
       "      <td>931.475845</td>\n",
       "      <td>37.980193</td>\n",
       "    </tr>\n",
       "    <tr>\n",
       "      <th>std</th>\n",
       "      <td>0.281995</td>\n",
       "      <td>11.392485</td>\n",
       "      <td>1262.109595</td>\n",
       "      <td>2.945562</td>\n",
       "      <td>0.012410</td>\n",
       "      <td>0.015347</td>\n",
       "      <td>0.818875</td>\n",
       "      <td>348.910269</td>\n",
       "      <td>13.606488</td>\n",
       "    </tr>\n",
       "    <tr>\n",
       "      <th>min</th>\n",
       "      <td>2012.666667</td>\n",
       "      <td>0.000000</td>\n",
       "      <td>23.382840</td>\n",
       "      <td>0.000000</td>\n",
       "      <td>24.932070</td>\n",
       "      <td>121.473530</td>\n",
       "      <td>1.000000</td>\n",
       "      <td>402.000000</td>\n",
       "      <td>7.600000</td>\n",
       "    </tr>\n",
       "    <tr>\n",
       "      <th>25%</th>\n",
       "      <td>2012.916667</td>\n",
       "      <td>9.025000</td>\n",
       "      <td>289.324800</td>\n",
       "      <td>1.000000</td>\n",
       "      <td>24.963000</td>\n",
       "      <td>121.528085</td>\n",
       "      <td>1.000000</td>\n",
       "      <td>548.000000</td>\n",
       "      <td>27.700000</td>\n",
       "    </tr>\n",
       "    <tr>\n",
       "      <th>50%</th>\n",
       "      <td>2013.166667</td>\n",
       "      <td>16.100000</td>\n",
       "      <td>492.231300</td>\n",
       "      <td>4.000000</td>\n",
       "      <td>24.971100</td>\n",
       "      <td>121.538630</td>\n",
       "      <td>2.000000</td>\n",
       "      <td>975.000000</td>\n",
       "      <td>38.450000</td>\n",
       "    </tr>\n",
       "    <tr>\n",
       "      <th>75%</th>\n",
       "      <td>2013.416667</td>\n",
       "      <td>28.150000</td>\n",
       "      <td>1454.279000</td>\n",
       "      <td>6.000000</td>\n",
       "      <td>24.977455</td>\n",
       "      <td>121.543305</td>\n",
       "      <td>3.000000</td>\n",
       "      <td>1234.750000</td>\n",
       "      <td>46.600000</td>\n",
       "    </tr>\n",
       "    <tr>\n",
       "      <th>max</th>\n",
       "      <td>2013.583333</td>\n",
       "      <td>43.800000</td>\n",
       "      <td>6488.021000</td>\n",
       "      <td>10.000000</td>\n",
       "      <td>25.014590</td>\n",
       "      <td>121.566270</td>\n",
       "      <td>3.000000</td>\n",
       "      <td>1500.000000</td>\n",
       "      <td>117.500000</td>\n",
       "    </tr>\n",
       "  </tbody>\n",
       "</table>\n",
       "</div>"
      ],
      "text/plain": [
       "       Transaction date   House Age  Distance from nearest Metro station (km)  \\\n",
       "count        414.000000  414.000000                                414.000000   \n",
       "mean        2013.148953   17.712560                               1083.885689   \n",
       "std            0.281995   11.392485                               1262.109595   \n",
       "min         2012.666667    0.000000                                 23.382840   \n",
       "25%         2012.916667    9.025000                                289.324800   \n",
       "50%         2013.166667   16.100000                                492.231300   \n",
       "75%         2013.416667   28.150000                               1454.279000   \n",
       "max         2013.583333   43.800000                               6488.021000   \n",
       "\n",
       "       Number of convenience stores    latitude   longitude  \\\n",
       "count                    414.000000  414.000000  414.000000   \n",
       "mean                       4.094203   24.969030  121.533361   \n",
       "std                        2.945562    0.012410    0.015347   \n",
       "min                        0.000000   24.932070  121.473530   \n",
       "25%                        1.000000   24.963000  121.528085   \n",
       "50%                        4.000000   24.971100  121.538630   \n",
       "75%                        6.000000   24.977455  121.543305   \n",
       "max                       10.000000   25.014590  121.566270   \n",
       "\n",
       "       Number of bedrooms  House size (sqft)  House price of unit area  \n",
       "count          414.000000         414.000000                414.000000  \n",
       "mean             1.987923         931.475845                 37.980193  \n",
       "std              0.818875         348.910269                 13.606488  \n",
       "min              1.000000         402.000000                  7.600000  \n",
       "25%              1.000000         548.000000                 27.700000  \n",
       "50%              2.000000         975.000000                 38.450000  \n",
       "75%              3.000000        1234.750000                 46.600000  \n",
       "max              3.000000        1500.000000                117.500000  "
      ]
     },
     "execution_count": 11,
     "metadata": {},
     "output_type": "execute_result"
    }
   ],
   "source": [
    "df.describe()"
   ]
  },
  {
   "cell_type": "markdown",
   "id": "243c7486",
   "metadata": {},
   "source": [
    "#### Transaction Date format is not acceptable to analyze further. Year from Transaction date column is extracted to new column Transaction year and column Transactio date is removed. "
   ]
  },
  {
   "cell_type": "code",
   "execution_count": 12,
   "id": "b69aaaf0",
   "metadata": {},
   "outputs": [
    {
     "name": "stdout",
     "output_type": "stream",
     "text": [
      "<class 'pandas.core.series.Series'>\n",
      "RangeIndex: 414 entries, 0 to 413\n",
      "Series name: Transaction date\n",
      "Non-Null Count  Dtype \n",
      "--------------  ----- \n",
      "414 non-null    object\n",
      "dtypes: object(1)\n",
      "memory usage: 3.4+ KB\n"
     ]
    },
    {
     "data": {
      "text/html": [
       "<div>\n",
       "<style scoped>\n",
       "    .dataframe tbody tr th:only-of-type {\n",
       "        vertical-align: middle;\n",
       "    }\n",
       "\n",
       "    .dataframe tbody tr th {\n",
       "        vertical-align: top;\n",
       "    }\n",
       "\n",
       "    .dataframe thead th {\n",
       "        text-align: right;\n",
       "    }\n",
       "</style>\n",
       "<table border=\"1\" class=\"dataframe\">\n",
       "  <thead>\n",
       "    <tr style=\"text-align: right;\">\n",
       "      <th></th>\n",
       "      <th>Transaction date</th>\n",
       "      <th>House Age</th>\n",
       "      <th>Distance from nearest Metro station (km)</th>\n",
       "      <th>Number of convenience stores</th>\n",
       "      <th>latitude</th>\n",
       "      <th>longitude</th>\n",
       "      <th>Number of bedrooms</th>\n",
       "      <th>House size (sqft)</th>\n",
       "      <th>House price of unit area</th>\n",
       "      <th>Transaction year</th>\n",
       "    </tr>\n",
       "  </thead>\n",
       "  <tbody>\n",
       "    <tr>\n",
       "      <th>0</th>\n",
       "      <td>2012.9166667</td>\n",
       "      <td>32.0</td>\n",
       "      <td>84.87882</td>\n",
       "      <td>10</td>\n",
       "      <td>24.98298</td>\n",
       "      <td>121.54024</td>\n",
       "      <td>1</td>\n",
       "      <td>575</td>\n",
       "      <td>37.9</td>\n",
       "      <td>2012</td>\n",
       "    </tr>\n",
       "    <tr>\n",
       "      <th>1</th>\n",
       "      <td>2012.9166667</td>\n",
       "      <td>19.5</td>\n",
       "      <td>306.59470</td>\n",
       "      <td>9</td>\n",
       "      <td>24.98034</td>\n",
       "      <td>121.53951</td>\n",
       "      <td>2</td>\n",
       "      <td>1240</td>\n",
       "      <td>42.2</td>\n",
       "      <td>2012</td>\n",
       "    </tr>\n",
       "    <tr>\n",
       "      <th>2</th>\n",
       "      <td>2013.5833333</td>\n",
       "      <td>13.3</td>\n",
       "      <td>561.98450</td>\n",
       "      <td>5</td>\n",
       "      <td>24.98746</td>\n",
       "      <td>121.54391</td>\n",
       "      <td>3</td>\n",
       "      <td>1060</td>\n",
       "      <td>47.3</td>\n",
       "      <td>2013</td>\n",
       "    </tr>\n",
       "    <tr>\n",
       "      <th>3</th>\n",
       "      <td>2013.5</td>\n",
       "      <td>13.3</td>\n",
       "      <td>561.98450</td>\n",
       "      <td>5</td>\n",
       "      <td>24.98746</td>\n",
       "      <td>121.54391</td>\n",
       "      <td>2</td>\n",
       "      <td>875</td>\n",
       "      <td>54.8</td>\n",
       "      <td>2013</td>\n",
       "    </tr>\n",
       "    <tr>\n",
       "      <th>4</th>\n",
       "      <td>2012.8333333</td>\n",
       "      <td>5.0</td>\n",
       "      <td>390.56840</td>\n",
       "      <td>5</td>\n",
       "      <td>24.97937</td>\n",
       "      <td>121.54245</td>\n",
       "      <td>1</td>\n",
       "      <td>491</td>\n",
       "      <td>43.1</td>\n",
       "      <td>2012</td>\n",
       "    </tr>\n",
       "  </tbody>\n",
       "</table>\n",
       "</div>"
      ],
      "text/plain": [
       "  Transaction date  House Age  Distance from nearest Metro station (km)  \\\n",
       "0     2012.9166667       32.0                                  84.87882   \n",
       "1     2012.9166667       19.5                                 306.59470   \n",
       "2     2013.5833333       13.3                                 561.98450   \n",
       "3           2013.5       13.3                                 561.98450   \n",
       "4     2012.8333333        5.0                                 390.56840   \n",
       "\n",
       "   Number of convenience stores  latitude  longitude  Number of bedrooms  \\\n",
       "0                            10  24.98298  121.54024                   1   \n",
       "1                             9  24.98034  121.53951                   2   \n",
       "2                             5  24.98746  121.54391                   3   \n",
       "3                             5  24.98746  121.54391                   2   \n",
       "4                             5  24.97937  121.54245                   1   \n",
       "\n",
       "   House size (sqft)  House price of unit area Transaction year  \n",
       "0                575                      37.9             2012  \n",
       "1               1240                      42.2             2012  \n",
       "2               1060                      47.3             2013  \n",
       "3                875                      54.8             2013  \n",
       "4                491                      43.1             2012  "
      ]
     },
     "execution_count": 12,
     "metadata": {},
     "output_type": "execute_result"
    }
   ],
   "source": [
    "#Creating new column for transaction year\n",
    "df[\"Transaction date\"]= df[\"Transaction date\"].astype(str)\n",
    "df[\"Transaction date\"].info()\n",
    "\n",
    "df[\"Transaction year\"]= df[\"Transaction date\"].apply(lambda x: x.split(\".\")[0])\n",
    "df.head()"
   ]
  },
  {
   "cell_type": "code",
   "execution_count": 13,
   "id": "fd9103ac",
   "metadata": {},
   "outputs": [
    {
     "data": {
      "text/plain": [
       "0      2012\n",
       "1      2012\n",
       "2      2013\n",
       "3      2013\n",
       "4      2012\n",
       "       ... \n",
       "409    2013\n",
       "410    2012\n",
       "411    2013\n",
       "412    2013\n",
       "413    2013\n",
       "Name: Transaction year, Length: 414, dtype: int32"
      ]
     },
     "execution_count": 13,
     "metadata": {},
     "output_type": "execute_result"
    }
   ],
   "source": [
    "# Changing data type of column Transaction year\n",
    "df[\"Transaction year\"].astype('int32')"
   ]
  },
  {
   "cell_type": "code",
   "execution_count": 14,
   "id": "955fe203",
   "metadata": {},
   "outputs": [
    {
     "data": {
      "text/html": [
       "<div>\n",
       "<style scoped>\n",
       "    .dataframe tbody tr th:only-of-type {\n",
       "        vertical-align: middle;\n",
       "    }\n",
       "\n",
       "    .dataframe tbody tr th {\n",
       "        vertical-align: top;\n",
       "    }\n",
       "\n",
       "    .dataframe thead th {\n",
       "        text-align: right;\n",
       "    }\n",
       "</style>\n",
       "<table border=\"1\" class=\"dataframe\">\n",
       "  <thead>\n",
       "    <tr style=\"text-align: right;\">\n",
       "      <th></th>\n",
       "      <th>House Age</th>\n",
       "      <th>Distance from nearest Metro station (km)</th>\n",
       "      <th>Number of convenience stores</th>\n",
       "      <th>latitude</th>\n",
       "      <th>longitude</th>\n",
       "      <th>Number of bedrooms</th>\n",
       "      <th>House size (sqft)</th>\n",
       "      <th>House price of unit area</th>\n",
       "      <th>Transaction year</th>\n",
       "    </tr>\n",
       "  </thead>\n",
       "  <tbody>\n",
       "    <tr>\n",
       "      <th>0</th>\n",
       "      <td>32.0</td>\n",
       "      <td>84.87882</td>\n",
       "      <td>10</td>\n",
       "      <td>24.98298</td>\n",
       "      <td>121.54024</td>\n",
       "      <td>1</td>\n",
       "      <td>575</td>\n",
       "      <td>37.9</td>\n",
       "      <td>2012</td>\n",
       "    </tr>\n",
       "    <tr>\n",
       "      <th>1</th>\n",
       "      <td>19.5</td>\n",
       "      <td>306.59470</td>\n",
       "      <td>9</td>\n",
       "      <td>24.98034</td>\n",
       "      <td>121.53951</td>\n",
       "      <td>2</td>\n",
       "      <td>1240</td>\n",
       "      <td>42.2</td>\n",
       "      <td>2012</td>\n",
       "    </tr>\n",
       "    <tr>\n",
       "      <th>2</th>\n",
       "      <td>13.3</td>\n",
       "      <td>561.98450</td>\n",
       "      <td>5</td>\n",
       "      <td>24.98746</td>\n",
       "      <td>121.54391</td>\n",
       "      <td>3</td>\n",
       "      <td>1060</td>\n",
       "      <td>47.3</td>\n",
       "      <td>2013</td>\n",
       "    </tr>\n",
       "    <tr>\n",
       "      <th>3</th>\n",
       "      <td>13.3</td>\n",
       "      <td>561.98450</td>\n",
       "      <td>5</td>\n",
       "      <td>24.98746</td>\n",
       "      <td>121.54391</td>\n",
       "      <td>2</td>\n",
       "      <td>875</td>\n",
       "      <td>54.8</td>\n",
       "      <td>2013</td>\n",
       "    </tr>\n",
       "    <tr>\n",
       "      <th>4</th>\n",
       "      <td>5.0</td>\n",
       "      <td>390.56840</td>\n",
       "      <td>5</td>\n",
       "      <td>24.97937</td>\n",
       "      <td>121.54245</td>\n",
       "      <td>1</td>\n",
       "      <td>491</td>\n",
       "      <td>43.1</td>\n",
       "      <td>2012</td>\n",
       "    </tr>\n",
       "  </tbody>\n",
       "</table>\n",
       "</div>"
      ],
      "text/plain": [
       "   House Age  Distance from nearest Metro station (km)  \\\n",
       "0       32.0                                  84.87882   \n",
       "1       19.5                                 306.59470   \n",
       "2       13.3                                 561.98450   \n",
       "3       13.3                                 561.98450   \n",
       "4        5.0                                 390.56840   \n",
       "\n",
       "   Number of convenience stores  latitude  longitude  Number of bedrooms  \\\n",
       "0                            10  24.98298  121.54024                   1   \n",
       "1                             9  24.98034  121.53951                   2   \n",
       "2                             5  24.98746  121.54391                   3   \n",
       "3                             5  24.98746  121.54391                   2   \n",
       "4                             5  24.97937  121.54245                   1   \n",
       "\n",
       "   House size (sqft)  House price of unit area Transaction year  \n",
       "0                575                      37.9             2012  \n",
       "1               1240                      42.2             2012  \n",
       "2               1060                      47.3             2013  \n",
       "3                875                      54.8             2013  \n",
       "4                491                      43.1             2012  "
      ]
     },
     "execution_count": 14,
     "metadata": {},
     "output_type": "execute_result"
    }
   ],
   "source": [
    "#Dropping Transaction Date column\n",
    "df.drop('Transaction date', axis=1, inplace= True)\n",
    "df.head()"
   ]
  },
  {
   "cell_type": "code",
   "execution_count": 15,
   "id": "a0eda297",
   "metadata": {},
   "outputs": [],
   "source": [
    "#Adding Price column\n",
    "df[\"Price\"]=df[\"House size (sqft)\"]*df[\"House price of unit area\"]"
   ]
  },
  {
   "cell_type": "code",
   "execution_count": 16,
   "id": "f5165d01",
   "metadata": {},
   "outputs": [
    {
     "data": {
      "text/html": [
       "<div>\n",
       "<style scoped>\n",
       "    .dataframe tbody tr th:only-of-type {\n",
       "        vertical-align: middle;\n",
       "    }\n",
       "\n",
       "    .dataframe tbody tr th {\n",
       "        vertical-align: top;\n",
       "    }\n",
       "\n",
       "    .dataframe thead th {\n",
       "        text-align: right;\n",
       "    }\n",
       "</style>\n",
       "<table border=\"1\" class=\"dataframe\">\n",
       "  <thead>\n",
       "    <tr style=\"text-align: right;\">\n",
       "      <th></th>\n",
       "      <th>House Age</th>\n",
       "      <th>Distance from nearest Metro station (km)</th>\n",
       "      <th>Number of convenience stores</th>\n",
       "      <th>latitude</th>\n",
       "      <th>longitude</th>\n",
       "      <th>Number of bedrooms</th>\n",
       "      <th>House size (sqft)</th>\n",
       "      <th>House price of unit area</th>\n",
       "      <th>Transaction year</th>\n",
       "      <th>Price</th>\n",
       "    </tr>\n",
       "  </thead>\n",
       "  <tbody>\n",
       "    <tr>\n",
       "      <th>0</th>\n",
       "      <td>32.0</td>\n",
       "      <td>84.87882</td>\n",
       "      <td>10</td>\n",
       "      <td>24.98298</td>\n",
       "      <td>121.54024</td>\n",
       "      <td>1</td>\n",
       "      <td>575</td>\n",
       "      <td>37.9</td>\n",
       "      <td>2012</td>\n",
       "      <td>21792.5</td>\n",
       "    </tr>\n",
       "    <tr>\n",
       "      <th>1</th>\n",
       "      <td>19.5</td>\n",
       "      <td>306.59470</td>\n",
       "      <td>9</td>\n",
       "      <td>24.98034</td>\n",
       "      <td>121.53951</td>\n",
       "      <td>2</td>\n",
       "      <td>1240</td>\n",
       "      <td>42.2</td>\n",
       "      <td>2012</td>\n",
       "      <td>52328.0</td>\n",
       "    </tr>\n",
       "    <tr>\n",
       "      <th>2</th>\n",
       "      <td>13.3</td>\n",
       "      <td>561.98450</td>\n",
       "      <td>5</td>\n",
       "      <td>24.98746</td>\n",
       "      <td>121.54391</td>\n",
       "      <td>3</td>\n",
       "      <td>1060</td>\n",
       "      <td>47.3</td>\n",
       "      <td>2013</td>\n",
       "      <td>50138.0</td>\n",
       "    </tr>\n",
       "    <tr>\n",
       "      <th>3</th>\n",
       "      <td>13.3</td>\n",
       "      <td>561.98450</td>\n",
       "      <td>5</td>\n",
       "      <td>24.98746</td>\n",
       "      <td>121.54391</td>\n",
       "      <td>2</td>\n",
       "      <td>875</td>\n",
       "      <td>54.8</td>\n",
       "      <td>2013</td>\n",
       "      <td>47950.0</td>\n",
       "    </tr>\n",
       "    <tr>\n",
       "      <th>4</th>\n",
       "      <td>5.0</td>\n",
       "      <td>390.56840</td>\n",
       "      <td>5</td>\n",
       "      <td>24.97937</td>\n",
       "      <td>121.54245</td>\n",
       "      <td>1</td>\n",
       "      <td>491</td>\n",
       "      <td>43.1</td>\n",
       "      <td>2012</td>\n",
       "      <td>21162.1</td>\n",
       "    </tr>\n",
       "  </tbody>\n",
       "</table>\n",
       "</div>"
      ],
      "text/plain": [
       "   House Age  Distance from nearest Metro station (km)  \\\n",
       "0       32.0                                  84.87882   \n",
       "1       19.5                                 306.59470   \n",
       "2       13.3                                 561.98450   \n",
       "3       13.3                                 561.98450   \n",
       "4        5.0                                 390.56840   \n",
       "\n",
       "   Number of convenience stores  latitude  longitude  Number of bedrooms  \\\n",
       "0                            10  24.98298  121.54024                   1   \n",
       "1                             9  24.98034  121.53951                   2   \n",
       "2                             5  24.98746  121.54391                   3   \n",
       "3                             5  24.98746  121.54391                   2   \n",
       "4                             5  24.97937  121.54245                   1   \n",
       "\n",
       "   House size (sqft)  House price of unit area Transaction year    Price  \n",
       "0                575                      37.9             2012  21792.5  \n",
       "1               1240                      42.2             2012  52328.0  \n",
       "2               1060                      47.3             2013  50138.0  \n",
       "3                875                      54.8             2013  47950.0  \n",
       "4                491                      43.1             2012  21162.1  "
      ]
     },
     "execution_count": 16,
     "metadata": {},
     "output_type": "execute_result"
    }
   ],
   "source": [
    "df.head()"
   ]
  },
  {
   "cell_type": "code",
   "execution_count": 17,
   "id": "d9e2e68e",
   "metadata": {},
   "outputs": [
    {
     "data": {
      "image/png": "[encoded data removed]",
      "text/plain": [
       "<Figure size 1080x1440 with 9 Axes>"
      ]
     },
     "metadata": {
      "needs_background": "light"
     },
     "output_type": "display_data"
    }
   ],
   "source": [
    "\n",
    "df.hist(figsize = (15,20))\n",
    "plt.show()"
   ]
  },
  {
   "cell_type": "code",
   "execution_count": 18,
   "id": "c7349d46",
   "metadata": {},
   "outputs": [
    {
     "data": {
      "text/plain": [
       "count       414.000000\n",
       "mean      35597.804106\n",
       "std       19890.892075\n",
       "min        5440.400000\n",
       "25%       20482.700000\n",
       "50%       31224.200000\n",
       "75%       48439.375000\n",
       "max      161327.500000\n",
       "Name: Price, dtype: float64"
      ]
     },
     "execution_count": 18,
     "metadata": {},
     "output_type": "execute_result"
    }
   ],
   "source": [
    "df.Price.describe()"
   ]
  },
  {
   "cell_type": "code",
   "execution_count": 19,
   "id": "efe8f645",
   "metadata": {},
   "outputs": [
    {
     "data": {
      "image/png": "[encoded data removed]",
      "text/plain": [
       "<Figure size 432x288 with 1 Axes>"
      ]
     },
     "metadata": {
      "needs_background": "light"
     },
     "output_type": "display_data"
    }
   ],
   "source": [
    "plt.boxplot(df.Price)\n",
    "plt.show()"
   ]
  },
  {
   "cell_type": "markdown",
   "id": "6c991e18",
   "metadata": {},
   "source": [
    "#### From above we can infer data, the data does not have null values and all the values are in Standardised form"
   ]
  },
  {
   "cell_type": "code",
   "execution_count": 20,
   "id": "24e2ceba",
   "metadata": {},
   "outputs": [
    {
     "data": {
      "text/plain": [
       "1    141\n",
       "2    137\n",
       "3    136\n",
       "Name: Number of bedrooms, dtype: int64"
      ]
     },
     "execution_count": 20,
     "metadata": {},
     "output_type": "execute_result"
    }
   ],
   "source": [
    "df[\"Number of bedrooms\"].value_counts()"
   ]
  },
  {
   "cell_type": "markdown",
   "id": "4e77392b",
   "metadata": {},
   "source": [
    "#### Number of houses for each bedroom type are almost equal. Now let us see the variation of house price based on number of bedrooms"
   ]
  },
  {
   "cell_type": "code",
   "execution_count": 21,
   "id": "a7f44552",
   "metadata": {},
   "outputs": [
    {
     "data": {
      "image/png": "[encoded data removed]",
      "text/plain": [
       "<Figure size 432x288 with 1 Axes>"
      ]
     },
     "metadata": {
      "needs_background": "light"
     },
     "output_type": "display_data"
    }
   ],
   "source": [
    "plt.scatter(df[\"Price\"],df[\"Number of bedrooms\"])\n",
    "plt.title(\"House Price vs Number of bedrooms\")\n",
    "plt.show()\n"
   ]
  },
  {
   "cell_type": "code",
   "execution_count": 22,
   "id": "32f2f0f1",
   "metadata": {},
   "outputs": [
    {
     "data": {
      "image/png": "[encoded data removed]",
      "text/plain": [
       "<Figure size 432x288 with 1 Axes>"
      ]
     },
     "metadata": {
      "needs_background": "light"
     },
     "output_type": "display_data"
    }
   ],
   "source": [
    "plt.boxplot(df[\"House price of unit area\"])\n",
    "plt.show()"
   ]
  },
  {
   "cell_type": "code",
   "execution_count": 23,
   "id": "980c9a56",
   "metadata": {},
   "outputs": [
    {
     "data": {
      "text/html": [
       "<div>\n",
       "<style scoped>\n",
       "    .dataframe tbody tr th:only-of-type {\n",
       "        vertical-align: middle;\n",
       "    }\n",
       "\n",
       "    .dataframe tbody tr th {\n",
       "        vertical-align: top;\n",
       "    }\n",
       "\n",
       "    .dataframe thead th {\n",
       "        text-align: right;\n",
       "    }\n",
       "</style>\n",
       "<table border=\"1\" class=\"dataframe\">\n",
       "  <thead>\n",
       "    <tr style=\"text-align: right;\">\n",
       "      <th></th>\n",
       "      <th>House Age</th>\n",
       "      <th>Distance from nearest Metro station (km)</th>\n",
       "      <th>Number of convenience stores</th>\n",
       "      <th>latitude</th>\n",
       "      <th>longitude</th>\n",
       "      <th>Number of bedrooms</th>\n",
       "      <th>House size (sqft)</th>\n",
       "      <th>House price of unit area</th>\n",
       "      <th>Transaction year</th>\n",
       "      <th>Price</th>\n",
       "    </tr>\n",
       "  </thead>\n",
       "  <tbody>\n",
       "    <tr>\n",
       "      <th>270</th>\n",
       "      <td>10.8</td>\n",
       "      <td>252.5822</td>\n",
       "      <td>1</td>\n",
       "      <td>24.9746</td>\n",
       "      <td>121.53046</td>\n",
       "      <td>2</td>\n",
       "      <td>1373</td>\n",
       "      <td>117.5</td>\n",
       "      <td>2013</td>\n",
       "      <td>161327.5</td>\n",
       "    </tr>\n",
       "  </tbody>\n",
       "</table>\n",
       "</div>"
      ],
      "text/plain": [
       "     House Age  Distance from nearest Metro station (km)  \\\n",
       "270       10.8                                  252.5822   \n",
       "\n",
       "     Number of convenience stores  latitude  longitude  Number of bedrooms  \\\n",
       "270                             1   24.9746  121.53046                   2   \n",
       "\n",
       "     House size (sqft)  House price of unit area Transaction year     Price  \n",
       "270               1373                     117.5             2013  161327.5  "
      ]
     },
     "execution_count": 23,
     "metadata": {},
     "output_type": "execute_result"
    }
   ],
   "source": [
    "df.loc[df[\"House price of unit area\"]>80]"
   ]
  },
  {
   "cell_type": "markdown",
   "id": "7f2940f5",
   "metadata": {},
   "source": [
    "#### This entry seems to be an outlier without any explanatory reason. So, it is better to remove this entry "
   ]
  },
  {
   "cell_type": "code",
   "execution_count": 24,
   "id": "3f436b28",
   "metadata": {},
   "outputs": [],
   "source": [
    "df.drop(df[(df[\"House price of unit area\"]>80)].index, axis=0, inplace= True)"
   ]
  },
  {
   "cell_type": "code",
   "execution_count": 25,
   "id": "a3e787b7",
   "metadata": {},
   "outputs": [
    {
     "data": {
      "image/png": "[encoded data removed]",
      "text/plain": [
       "<Figure size 432x288 with 1 Axes>"
      ]
     },
     "metadata": {
      "needs_background": "light"
     },
     "output_type": "display_data"
    }
   ],
   "source": [
    "plt.boxplot(df[\"House price of unit area\"])\n",
    "plt.show()"
   ]
  },
  {
   "cell_type": "code",
   "execution_count": 26,
   "id": "7d840cf1",
   "metadata": {},
   "outputs": [
    {
     "data": {
      "image/png": "[encoded data removed]",
      "text/plain": [
       "<Figure size 432x288 with 1 Axes>"
      ]
     },
     "metadata": {
      "needs_background": "light"
     },
     "output_type": "display_data"
    }
   ],
   "source": [
    "\n",
    "\n",
    "plt.scatter(df[\"Price\"],df[\"Distance from nearest Metro station (km)\"])\n",
    "plt.title(\"House Price vs Metro station distance\")\n",
    "plt.show()"
   ]
  },
  {
   "cell_type": "code",
   "execution_count": 27,
   "id": "23f27505",
   "metadata": {},
   "outputs": [
    {
     "data": {
      "image/png": "[encoded data removed]",
      "text/plain": [
       "<Figure size 432x288 with 1 Axes>"
      ]
     },
     "metadata": {
      "needs_background": "light"
     },
     "output_type": "display_data"
    }
   ],
   "source": [
    "plt.scatter(df[\"Price\"],df[\"House Age\"])\n",
    "plt.title(\"House Price vs House Age\")\n",
    "plt.show()"
   ]
  },
  {
   "cell_type": "code",
   "execution_count": 28,
   "id": "6a1509e6",
   "metadata": {},
   "outputs": [
    {
     "data": {
      "image/png": "[encoded data removed]",
      "text/plain": [
       "<Figure size 432x288 with 1 Axes>"
      ]
     },
     "metadata": {
      "needs_background": "light"
     },
     "output_type": "display_data"
    }
   ],
   "source": [
    "\n",
    "\n",
    "plt.scatter(df[\"Price\"],df[\"latitude\"])\n",
    "plt.title(\"House Price vs latitude\")\n",
    "plt.show()"
   ]
  },
  {
   "cell_type": "code",
   "execution_count": 29,
   "id": "93732d82",
   "metadata": {},
   "outputs": [
    {
     "data": {
      "image/png": "[encoded data removed]",
      "text/plain": [
       "<Figure size 432x288 with 1 Axes>"
      ]
     },
     "metadata": {
      "needs_background": "light"
     },
     "output_type": "display_data"
    }
   ],
   "source": [
    "plt.scatter(df[\"Price\"],df[\"longitude\"])\n",
    "plt.title(\"House Price vs longitude\")\n",
    "plt.show()"
   ]
  },
  {
   "cell_type": "code",
   "execution_count": 30,
   "id": "1f7df7de",
   "metadata": {},
   "outputs": [
    {
     "data": {
      "image/png": "[encoded data removed]",
      "text/plain": [
       "<Figure size 432x288 with 1 Axes>"
      ]
     },
     "metadata": {
      "needs_background": "light"
     },
     "output_type": "display_data"
    }
   ],
   "source": [
    "plt.scatter(df[\"Price\"],df[\"House size (sqft)\"])\n",
    "plt.title(\"House Price vs House size (sqft)\")\n",
    "plt.show()"
   ]
  },
  {
   "cell_type": "code",
   "execution_count": 31,
   "id": "d162de4b",
   "metadata": {},
   "outputs": [
    {
     "data": {
      "text/plain": [
       "count     413.000000\n",
       "mean      930.406780\n",
       "std       348.653908\n",
       "min       402.000000\n",
       "25%       548.000000\n",
       "50%       975.000000\n",
       "75%      1234.000000\n",
       "max      1500.000000\n",
       "Name: House size (sqft), dtype: float64"
      ]
     },
     "execution_count": 31,
     "metadata": {},
     "output_type": "execute_result"
    }
   ],
   "source": [
    "df[\"House size (sqft)\"].describe()"
   ]
  },
  {
   "cell_type": "code",
   "execution_count": 32,
   "id": "e6d8f5fe",
   "metadata": {},
   "outputs": [
    {
     "data": {
      "image/png": "[encoded data removed]",
      "text/plain": [
       "<Figure size 432x288 with 1 Axes>"
      ]
     },
     "metadata": {
      "needs_background": "light"
     },
     "output_type": "display_data"
    }
   ],
   "source": [
    "plt.boxplot(df[\"House size (sqft)\"])\n",
    "plt.show()"
   ]
  },
  {
   "cell_type": "code",
   "execution_count": 43,
   "id": "442c7fa2",
   "metadata": {},
   "outputs": [
    {
     "data": {
      "image/png": "[encoded data removed]",
      "text/plain": [
       "<Figure size 720x720 with 2 Axes>"
      ]
     },
     "metadata": {
      "needs_background": "light"
     },
     "output_type": "display_data"
    }
   ],
   "source": [
    "#plot the correlation matrix in df dataframe.\n",
    "fig, ax = plt.subplots(figsize=(10,10)) \n",
    "sns.heatmap(df.corr(), annot= True, cmap=\"Reds\",ax=ax)\n",
    "plt.show()"
   ]
  },
  {
   "cell_type": "code",
   "execution_count": 33,
   "id": "c264cb6a",
   "metadata": {},
   "outputs": [],
   "source": [
    "from sklearn.linear_model import LinearRegression"
   ]
  },
  {
   "cell_type": "code",
   "execution_count": 34,
   "id": "7dacd22f",
   "metadata": {},
   "outputs": [],
   "source": [
    "reg = LinearRegression()"
   ]
  },
  {
   "cell_type": "code",
   "execution_count": 35,
   "id": "e1ca5bd7",
   "metadata": {},
   "outputs": [],
   "source": [
    "labels = df['Price']\n",
    "conv_dates = [1 if values == 2013 else 0 for values in df[\"Transaction year\"] ]\n",
    "df['Transaction year'] = conv_dates\n",
    "train1 = df.drop(['Price'],axis=1)\n"
   ]
  },
  {
   "cell_type": "code",
   "execution_count": 36,
   "id": "a9634b1d",
   "metadata": {},
   "outputs": [],
   "source": [
    "from sklearn.model_selection import train_test_split"
   ]
  },
  {
   "cell_type": "code",
   "execution_count": 37,
   "id": "497336a7",
   "metadata": {},
   "outputs": [],
   "source": [
    "#Splitting the dataset into training and test sets\n",
    "x_train , x_test , y_train , y_test = train_test_split(train1 , labels , test_size = 0.10,random_state =2)"
   ]
  },
  {
   "cell_type": "code",
   "execution_count": 38,
   "id": "82bcfb33",
   "metadata": {},
   "outputs": [
    {
     "data": {
      "text/plain": [
       "LinearRegression()"
      ]
     },
     "execution_count": 38,
     "metadata": {},
     "output_type": "execute_result"
    }
   ],
   "source": [
    "reg.fit(x_train,y_train)"
   ]
  },
  {
   "cell_type": "code",
   "execution_count": 39,
   "id": "440200fa",
   "metadata": {},
   "outputs": [
    {
     "data": {
      "text/plain": [
       "LinearRegression(n_jobs=1, normalize=False)"
      ]
     },
     "execution_count": 39,
     "metadata": {},
     "output_type": "execute_result"
    }
   ],
   "source": [
    "\n",
    "LinearRegression(copy_X=True, fit_intercept=True, n_jobs=1, normalize=False)"
   ]
  },
  {
   "cell_type": "code",
   "execution_count": 40,
   "id": "de96cc7f",
   "metadata": {},
   "outputs": [
    {
     "data": {
      "text/plain": [
       "0.940014132311713"
      ]
     },
     "execution_count": 40,
     "metadata": {},
     "output_type": "execute_result"
    }
   ],
   "source": [
    "#Regression score\n",
    "reg.score(x_test,y_test)"
   ]
  },
  {
   "cell_type": "code",
   "execution_count": null,
   "id": "dae2ff68",
   "metadata": {},
   "outputs": [],
   "source": []
  },
  {
   "cell_type": "code",
   "execution_count": null,
   "id": "f29067b1",
   "metadata": {},
   "outputs": [],
   "source": [
    "\n",
    "\n",
    "\n",
    "\n",
    "\n",
    "\n"
   ]
  },
  {
   "cell_type": "code",
   "execution_count": null,
   "id": "9fba0d27",
   "metadata": {},
   "outputs": [],
   "source": []
  }
 ],
 "metadata": {
  "kernelspec": {
   "display_name": "Python 3 (ipykernel)",
   "language": "python",
   "name": "python3"
  },
  "language_info": {
   "codemirror_mode": {
    "name": "ipython",
    "version": 3
   },
   "file_extension": ".py",
   "mimetype": "text/x-python",
   "name": "python",
   "nbconvert_exporter": "python",
   "pygments_lexer": "ipython3",
   "version": "3.9.12"
  }
 },
 "nbformat": 4,
 "nbformat_minor": 5
}
